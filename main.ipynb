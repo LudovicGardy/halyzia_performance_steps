{
 "cells": [
  {
   "cell_type": "code",
   "execution_count": 2,
   "id": "5063f983",
   "metadata": {},
   "outputs": [],
   "source": [
    "import os\n",
    "import pandas as pd\n",
    "import numpy as np\n",
    "import matplotlib.pyplot as plt\n",
    "from matplotlib import ticker\n",
    "from plotnine import *\n",
    "import plotnine\n",
    "plotnine.options.figure_size = (15, 8)"
   ]
  },
  {
   "cell_type": "markdown",
   "id": "8c4151d6",
   "metadata": {},
   "source": [
    "# 1. Load data"
   ]
  },
  {
   "cell_type": "code",
   "execution_count": 3,
   "id": "7e7400c0",
   "metadata": {},
   "outputs": [],
   "source": [
    "model_weight = 10"
   ]
  },
  {
   "cell_type": "markdown",
   "id": "89c65dbb",
   "metadata": {},
   "source": [
    "# 1.1. FR data"
   ]
  },
  {
   "cell_type": "code",
   "execution_count": 4,
   "id": "63a17b68",
   "metadata": {},
   "outputs": [
    {
     "name": "stdout",
     "output_type": "stream",
     "text": [
      "\n",
      "input_data/model_weight-10/FR_200-600/Ripple-FR_detection_summary_15032023_08-18-24.csv\n",
      "Index(['JSON-index', 'JSON-ID', 'chan_name', 'event_time', 'pass_step1',\n",
      "       'pass_step2', 'pass_step3_NN', 'pass_step3_sig'],\n",
      "      dtype='object')\n",
      "\n",
      "\n",
      "input_data/model_weight-10/FR_200-600/FR_detection_summary_14032023_21-55-56.csv\n",
      "Index(['JSON-index', 'JSON-ID', 'chan_name', 'event_time', 'pass_step1',\n",
      "       'pass_step2', 'pass_step3_NN', 'pass_step3_sig'],\n",
      "      dtype='object')\n",
      "\n",
      "\n",
      "input_data/model_weight-10/FR_200-600/Spike-R-FR_detection_summary_15032023_10-08-35.csv\n",
      "Index(['JSON-index', 'JSON-ID', 'chan_name', 'event_time', 'pass_step1',\n",
      "       'pass_step2', 'pass_step3_NN', 'pass_step3_sig'],\n",
      "      dtype='object')\n",
      "\n",
      "\n",
      "input_data/model_weight-10/FR_200-600/Spike-FR_detection_summary_15032023_08-52-18.csv\n",
      "Index(['JSON-index', 'JSON-ID', 'chan_name', 'event_time', 'pass_step1',\n",
      "       'pass_step2', 'pass_step3_NN', 'pass_step3_sig'],\n",
      "      dtype='object')\n",
      "\n",
      "0dB (n=5760)\n",
      "-----------------\n",
      "Pass step 1: 479\n",
      "Pass step 2: 287\n",
      "Pass step 3 NN: 285\n",
      "Pass step 3 sig: 286\n",
      "\n",
      "Pass all: 285\n",
      "\n",
      "5dB (n=5760)\n",
      "-----------------\n",
      "Pass step 1: 4176\n",
      "Pass step 2: 3559\n",
      "Pass step 3 NN: 3551\n",
      "Pass step 3 sig: 3540\n",
      "\n",
      "Pass all: 3534\n",
      "\n",
      "10dB (n=5760)\n",
      "-----------------\n",
      "Pass step 1: 5732\n",
      "Pass step 2: 5710\n",
      "Pass step 3 NN: 5472\n",
      "Pass step 3 sig: 5520\n",
      "\n",
      "Pass all: 5448\n",
      "\n",
      "15dB (n=5760)\n",
      "-----------------\n",
      "Pass step 1: 5757\n",
      "Pass step 2: 5744\n",
      "Pass step 3 NN: 4671\n",
      "Pass step 3 sig: 5040\n",
      "\n",
      "Pass all: 4628\n"
     ]
    }
   ],
   "source": [
    "FRs_path = os.path.join(\"input_data\", f\"model_weight-{model_weight}\", \"FR_200-600\")\n",
    "FRs_path_list = os.listdir(FRs_path)\n",
    "\n",
    "FR_pass_step1 = {\"0dB\": 0, \"5dB\": 0, \"10dB\":0, \"15dB\":0}\n",
    "FR_pass_step2 = {\"0dB\": 0, \"5dB\": 0, \"10dB\":0, \"15dB\":0}\n",
    "FR_pass_step3_NN = {\"0dB\": 0, \"5dB\": 0, \"10dB\":0, \"15dB\":0}\n",
    "FR_pass_step3_sig = {\"0dB\": 0, \"5dB\": 0, \"10dB\":0, \"15dB\":0}\n",
    "FR_pass_all = {\"0dB\": 0, \"5dB\": 0, \"10dB\":0, \"15dB\":0}\n",
    "\n",
    "count=0\n",
    "for path in FRs_path_list:\n",
    "    path = os.path.join(FRs_path, path)\n",
    " \n",
    "    print(\"\")\n",
    "    print(path)\n",
    "    df = pd.read_csv(path)\n",
    "    print(df.keys())\n",
    "    print(\"\")\n",
    "\n",
    "    n_lines = df.shape[0]\n",
    "\n",
    "    for i in range(n_lines):\n",
    "        p_step1 = False\n",
    "        p_step2 = False\n",
    "        p_step3_NN = False\n",
    "        p_step3_sig = False\n",
    "        dB = df[\"chan_name\"][i].split(\"-\")[1].replace(' SNR ', '').replace('dB ', \"dB\")\n",
    "\n",
    "        if df[\"pass_step1\"][i]:\n",
    "            p_step1 = True\n",
    "            FR_pass_step1[dB]+=1\n",
    "\n",
    "        if df[\"pass_step1\"][i] and df[\"pass_step2\"][i]:\n",
    "            p_step2 = True\n",
    "            FR_pass_step2[dB]+=1\n",
    "\n",
    "        if df[\"pass_step1\"][i] and df[\"pass_step2\"][i] and not df[\"pass_step3_NN\"][i]:\n",
    "            p_step3_NN = False\n",
    "            FR_pass_step3_NN[dB]+=1            \n",
    "            \n",
    "        if df[\"pass_step1\"][i] and df[\"pass_step2\"][i] and not df[\"pass_step3_sig\"][i]:\n",
    "            p_step3_sig = False\n",
    "            FR_pass_step3_sig[dB]+=1\n",
    "            \n",
    "        if df[\"pass_step1\"][i] and df[\"pass_step2\"][i] and not df[\"pass_step3_NN\"][i] and not df[\"pass_step3_sig\"][i]:\n",
    "            FR_pass_all[dB]+=1\n",
    "            \n",
    "n_total_FR = 1440 * len(FRs_path_list)        \n",
    "        \n",
    "print(f\"0dB (n={n_total_FR})\")\n",
    "print(\"-----------------\")\n",
    "print(f\"Pass step 1: {FR_pass_step1['0dB']}\")\n",
    "print(f\"Pass step 2: {FR_pass_step2['0dB']}\")\n",
    "print(f\"Pass step 3 NN: {FR_pass_step3_NN['0dB']}\")\n",
    "print(f\"Pass step 3 sig: {FR_pass_step3_sig['0dB']}\")\n",
    "print(\"\")\n",
    "print(f\"Pass all: {FR_pass_all['0dB']}\")\n",
    "print(\"\")\n",
    "\n",
    "print(f\"5dB (n={n_total_FR})\")\n",
    "print(\"-----------------\")\n",
    "print(f\"Pass step 1: {FR_pass_step1['5dB']}\")\n",
    "print(f\"Pass step 2: {FR_pass_step2['5dB']}\")\n",
    "print(f\"Pass step 3 NN: {FR_pass_step3_NN['5dB']}\")\n",
    "print(f\"Pass step 3 sig: {FR_pass_step3_sig['5dB']}\") \n",
    "print(\"\")\n",
    "print(f\"Pass all: {FR_pass_all['5dB']}\")\n",
    "print(\"\")\n",
    "\n",
    "print(f\"10dB (n={n_total_FR})\")\n",
    "print(\"-----------------\")\n",
    "print(f\"Pass step 1: {FR_pass_step1['10dB']}\")\n",
    "print(f\"Pass step 2: {FR_pass_step2['10dB']}\")\n",
    "print(f\"Pass step 3 NN: {FR_pass_step3_NN['10dB']}\")\n",
    "print(f\"Pass step 3 sig: {FR_pass_step3_sig['10dB']}\")  \n",
    "print(\"\")\n",
    "print(f\"Pass all: {FR_pass_all['10dB']}\")\n",
    "print(\"\")\n",
    "\n",
    "print(f\"15dB (n={n_total_FR})\")\n",
    "print(\"-----------------\")\n",
    "print(f\"Pass step 1: {FR_pass_step1['15dB']}\")\n",
    "print(f\"Pass step 2: {FR_pass_step2['15dB']}\")\n",
    "print(f\"Pass step 3 NN: {FR_pass_step3_NN['15dB']}\")\n",
    "print(f\"Pass step 3 sig: {FR_pass_step3_sig['15dB']}\") \n",
    "print(\"\")\n",
    "print(f\"Pass all: {FR_pass_all['15dB']}\")\n",
    "\n"
   ]
  },
  {
   "cell_type": "markdown",
   "id": "755931cd",
   "metadata": {},
   "source": [
    "# 1.2. NonFR data"
   ]
  },
  {
   "cell_type": "code",
   "execution_count": 5,
   "id": "ab28d035",
   "metadata": {},
   "outputs": [
    {
     "name": "stdout",
     "output_type": "stream",
     "text": [
      "\n",
      "input_data/model_weight-10/nonFR_260-660/Spike-Ripple_detection_summary_15032023_09-13-31.csv\n",
      "Index(['JSON-index', 'JSON-ID', 'chan_name', 'event_time', 'pass_step1',\n",
      "       'pass_step2', 'pass_step3_NN', 'pass_step3_sig'],\n",
      "      dtype='object')\n",
      "\n",
      "\n",
      "input_data/model_weight-10/nonFR_260-660/Ripple_detection_summary_14032023_22-35-56.csv\n",
      "Index(['JSON-index', 'JSON-ID', 'chan_name', 'event_time', 'pass_step1',\n",
      "       'pass_step2', 'pass_step3_NN', 'pass_step3_sig'],\n",
      "      dtype='object')\n",
      "\n",
      "\n",
      "input_data/model_weight-10/nonFR_260-660/Spike_detection_summary_15032023_08-35-40.csv\n",
      "Index(['JSON-index', 'JSON-ID', 'chan_name', 'event_time', 'pass_step1',\n",
      "       'pass_step2', 'pass_step3_NN', 'pass_step3_sig'],\n",
      "      dtype='object')\n",
      "\n",
      "0dB (n=4320)\n",
      "-----------------\n",
      "Pass step 1: 117\n",
      "Pass step 2: 112\n",
      "Pass step 3 NN: 112\n",
      "Pass step 3 sig: 112\n",
      "\n",
      "Pass all: 112\n",
      "\n",
      "5dB (n=4320)\n",
      "-----------------\n",
      "Pass step 1: 130\n",
      "Pass step 2: 121\n",
      "Pass step 3 NN: 121\n",
      "Pass step 3 sig: 121\n",
      "\n",
      "Pass all: 121\n",
      "\n",
      "10dB (n=4320)\n",
      "-----------------\n",
      "Pass step 1: 135\n",
      "Pass step 2: 116\n",
      "Pass step 3 NN: 115\n",
      "Pass step 3 sig: 116\n",
      "\n",
      "Pass all: 115\n",
      "\n",
      "15dB (n=4320)\n",
      "-----------------\n",
      "Pass step 1: 303\n",
      "Pass step 2: 208\n",
      "Pass step 3 NN: 207\n",
      "Pass step 3 sig: 208\n",
      "\n",
      "Pass all: 207\n"
     ]
    }
   ],
   "source": [
    "nonFRs_path = os.path.join(\"input_data\", f\"model_weight-{model_weight}\", \"nonFR_260-660\")\n",
    "nonFRs_path_list = os.listdir(nonFRs_path)\n",
    "\n",
    "nonFR_pass_step1 = {\"0dB\": 0, \"5dB\": 0, \"10dB\":0, \"15dB\":0}\n",
    "nonFR_pass_step2 = {\"0dB\": 0, \"5dB\": 0, \"10dB\":0, \"15dB\":0}\n",
    "nonFR_pass_step3_NN = {\"0dB\": 0, \"5dB\": 0, \"10dB\":0, \"15dB\":0}\n",
    "nonFR_pass_step3_sig = {\"0dB\": 0, \"5dB\": 0, \"10dB\":0, \"15dB\":0}\n",
    "nonFR_pass_all = {\"0dB\": 0, \"5dB\": 0, \"10dB\":0, \"15dB\":0}\n",
    "\n",
    "count=0\n",
    "for path in nonFRs_path_list:       \n",
    "    path = os.path.join(nonFRs_path, path)\n",
    " \n",
    "    print(\"\")\n",
    "    print(path)\n",
    "    df = pd.read_csv(path)\n",
    "    print(df.keys())\n",
    "    print(\"\")\n",
    "\n",
    "    n_lines = df.shape[0]\n",
    "\n",
    "    for i in range(n_lines):\n",
    "        p_step1 = False\n",
    "        p_step2 = False\n",
    "        p_step3_NN = False\n",
    "        p_step3_sig = False\n",
    "        dB = df[\"chan_name\"][i].split(\"-\")[1].replace(' SNR ', '').replace('dB ', \"dB\")\n",
    "\n",
    "        if df[\"pass_step1\"][i]:\n",
    "            p_step1 = True\n",
    "            nonFR_pass_step1[dB]+=1\n",
    "\n",
    "        if df[\"pass_step1\"][i] and df[\"pass_step2\"][i]:\n",
    "            p_step2 = True\n",
    "            nonFR_pass_step2[dB]+=1\n",
    "\n",
    "        if df[\"pass_step1\"][i] and df[\"pass_step2\"][i] and not df[\"pass_step3_NN\"][i]:\n",
    "            p_step3_NN = False\n",
    "            nonFR_pass_step3_NN[dB]+=1            \n",
    "            \n",
    "        if df[\"pass_step1\"][i] and df[\"pass_step2\"][i] and not df[\"pass_step3_sig\"][i]:\n",
    "            p_step3_sig = False\n",
    "            nonFR_pass_step3_sig[dB]+=1\n",
    "            \n",
    "        if df[\"pass_step1\"][i] and df[\"pass_step2\"][i] and not df[\"pass_step3_NN\"][i] and not df[\"pass_step3_sig\"][i]:\n",
    "            nonFR_pass_all[dB]+=1\n",
    "\n",
    "n_total_nonFR = 1440 * len(nonFRs_path_list)\n",
    "        \n",
    "print(f\"0dB (n={n_total_nonFR})\")\n",
    "print(\"-----------------\")\n",
    "print(f\"Pass step 1: {nonFR_pass_step1['0dB']}\")\n",
    "print(f\"Pass step 2: {nonFR_pass_step2['0dB']}\")\n",
    "print(f\"Pass step 3 NN: {nonFR_pass_step3_NN['0dB']}\")\n",
    "print(f\"Pass step 3 sig: {nonFR_pass_step3_sig['0dB']}\")\n",
    "print(\"\")\n",
    "print(f\"Pass all: {nonFR_pass_all['0dB']}\")\n",
    "print(\"\")\n",
    "\n",
    "print(f\"5dB (n={n_total_nonFR})\")\n",
    "print(\"-----------------\")\n",
    "print(f\"Pass step 1: {nonFR_pass_step1['5dB']}\")\n",
    "print(f\"Pass step 2: {nonFR_pass_step2['5dB']}\")\n",
    "print(f\"Pass step 3 NN: {nonFR_pass_step3_NN['5dB']}\")\n",
    "print(f\"Pass step 3 sig: {nonFR_pass_step3_sig['5dB']}\") \n",
    "print(\"\")\n",
    "print(f\"Pass all: {nonFR_pass_all['5dB']}\")\n",
    "print(\"\")\n",
    "\n",
    "print(f\"10dB (n={n_total_nonFR})\")\n",
    "print(\"-----------------\")\n",
    "print(f\"Pass step 1: {nonFR_pass_step1['10dB']}\")\n",
    "print(f\"Pass step 2: {nonFR_pass_step2['10dB']}\")\n",
    "print(f\"Pass step 3 NN: {nonFR_pass_step3_NN['10dB']}\")\n",
    "print(f\"Pass step 3 sig: {nonFR_pass_step3_sig['10dB']}\")  \n",
    "print(\"\")\n",
    "print(f\"Pass all: {nonFR_pass_all['10dB']}\")\n",
    "print(\"\")\n",
    "\n",
    "print(f\"15dB (n={n_total_nonFR})\")\n",
    "print(\"-----------------\")\n",
    "print(f\"Pass step 1: {nonFR_pass_step1['15dB']}\")\n",
    "print(f\"Pass step 2: {nonFR_pass_step2['15dB']}\")\n",
    "print(f\"Pass step 3 NN: {nonFR_pass_step3_NN['15dB']}\")\n",
    "print(f\"Pass step 3 sig: {nonFR_pass_step3_sig['15dB']}\") \n",
    "print(\"\")\n",
    "print(f\"Pass all: {nonFR_pass_all['15dB']}\")\n",
    "\n"
   ]
  },
  {
   "cell_type": "markdown",
   "id": "ee9e1d58",
   "metadata": {},
   "source": [
    "# 2.1. Step 1 results"
   ]
  },
  {
   "cell_type": "code",
   "execution_count": 6,
   "id": "3d876f85",
   "metadata": {},
   "outputs": [],
   "source": [
    "prec = {}\n",
    "sens = {}\n",
    "Fmeasure = {}"
   ]
  },
  {
   "cell_type": "code",
   "execution_count": 7,
   "id": "9f3f3ce7",
   "metadata": {},
   "outputs": [
    {
     "name": "stdout",
     "output_type": "stream",
     "text": [
      "Precision:  80.37\n",
      "Sensitivity:  8.32\n",
      "F measure:  15.08\n",
      "\n",
      "Precision:  96.98\n",
      "Sensitivity:  72.5\n",
      "F measure:  82.97\n",
      "\n",
      "Precision:  97.7\n",
      "Sensitivity:  99.51\n",
      "F measure:  98.6\n",
      "\n",
      "Precision:  95.0\n",
      "Sensitivity:  99.95\n",
      "F measure:  97.41\n",
      "\n"
     ]
    }
   ],
   "source": [
    "step = \"step1\"\n",
    "dataset_FR = FR_pass_step1\n",
    "dataset_nonFR = nonFR_pass_step1\n",
    "\n",
    "prec[step] = {\"0dB\":np.nan, \"5dB\":np.nan, \"10dB\":np.nan, \"15dB\":np.nan,}\n",
    "sens[step] = {\"0dB\":np.nan, \"5dB\":np.nan, \"10dB\":np.nan, \"15dB\":np.nan,}\n",
    "Fmeasure[step] = {\"0dB\":np.nan, \"5dB\":np.nan, \"10dB\":np.nan, \"15dB\":np.nan,}\n",
    "\n",
    "for dB in prec[step].keys():\n",
    "    prec[step][dB] = np.round(dataset_FR[dB] / (dataset_FR[dB] + dataset_nonFR[dB]) * 100, 2)\n",
    "    sens[step][dB] = np.round(dataset_FR[dB] / (dataset_FR[dB] + (n_total_FR - dataset_FR[dB]) ) * 100, 2)\n",
    "    Fmeasure[step][dB] = np.round(2 * ( (prec[step][dB] * sens[step][dB]) / (prec[step][dB] + sens[step][dB]) ), 2)\n",
    "    print(\"Precision: \", prec[step][dB])\n",
    "    print(\"Sensitivity: \", sens[step][dB])\n",
    "    print(\"F measure: \", Fmeasure[step][dB])\n",
    "    print(\"\")\n"
   ]
  },
  {
   "cell_type": "markdown",
   "id": "cff52655",
   "metadata": {},
   "source": [
    "# 2.2. Step 2 results"
   ]
  },
  {
   "cell_type": "code",
   "execution_count": 8,
   "id": "cc7631aa",
   "metadata": {},
   "outputs": [
    {
     "name": "stdout",
     "output_type": "stream",
     "text": [
      "Precision:  71.93\n",
      "Sensitivity:  4.98\n",
      "F measure:  9.32\n",
      "\n",
      "Precision:  96.71\n",
      "Sensitivity:  61.79\n",
      "F measure:  75.4\n",
      "\n",
      "Precision:  98.01\n",
      "Sensitivity:  99.13\n",
      "F measure:  98.57\n",
      "\n",
      "Precision:  96.51\n",
      "Sensitivity:  99.72\n",
      "F measure:  98.09\n",
      "\n"
     ]
    }
   ],
   "source": [
    "step = \"step2\"\n",
    "dataset_FR = FR_pass_step2\n",
    "dataset_nonFR = nonFR_pass_step2\n",
    "\n",
    "prec[step] = {\"0dB\":np.nan, \"5dB\":np.nan, \"10dB\":np.nan, \"15dB\":np.nan,}\n",
    "sens[step] = {\"0dB\":np.nan, \"5dB\":np.nan, \"10dB\":np.nan, \"15dB\":np.nan,}\n",
    "Fmeasure[step] = {\"0dB\":np.nan, \"5dB\":np.nan, \"10dB\":np.nan, \"15dB\":np.nan,}\n",
    "\n",
    "for dB in prec[step].keys():\n",
    "    prec[step][dB] = np.round(dataset_FR[dB] / (dataset_FR[dB] + dataset_nonFR[dB]) * 100, 2)\n",
    "    sens[step][dB] = np.round(dataset_FR[dB] / (dataset_FR[dB] + (n_total_FR - dataset_FR[dB]) ) * 100, 2)\n",
    "    Fmeasure[step][dB] = np.round(2 * ( (prec[step][dB] * sens[step][dB]) / (prec[step][dB] + sens[step][dB]) ), 2)\n",
    "    print(\"Precision: \", prec[step][dB])\n",
    "    print(\"Sensitivity: \", sens[step][dB])\n",
    "    print(\"F measure: \", Fmeasure[step][dB])\n",
    "    print(\"\")\n"
   ]
  },
  {
   "cell_type": "code",
   "execution_count": 9,
   "id": "3f922e22",
   "metadata": {},
   "outputs": [
    {
     "name": "stdout",
     "output_type": "stream",
     "text": [
      "{'0dB': 287, '5dB': 3559, '10dB': 5710, '15dB': 5744}\n",
      "\n",
      "5473\n",
      "2201\n",
      "50\n",
      "16\n",
      "\n",
      "{'0dB': 112, '5dB': 121, '10dB': 116, '15dB': 208}\n"
     ]
    }
   ],
   "source": [
    "print(dataset_FR)\n",
    "print(\"\")\n",
    "for key in dataset_FR:\n",
    "    print(5760-dataset_FR[key])\n",
    "print(\"\")\n",
    "print(dataset_nonFR)"
   ]
  },
  {
   "cell_type": "markdown",
   "id": "914aa28f",
   "metadata": {},
   "source": [
    "# 2.3. Step 3 NN results"
   ]
  },
  {
   "cell_type": "code",
   "execution_count": 10,
   "id": "f966e644",
   "metadata": {},
   "outputs": [
    {
     "name": "stdout",
     "output_type": "stream",
     "text": [
      "Precision:  71.79\n",
      "Sensitivity:  4.95\n",
      "F measure:  9.26\n",
      "\n",
      "Precision:  96.7\n",
      "Sensitivity:  61.65\n",
      "F measure:  75.3\n",
      "\n",
      "Precision:  97.94\n",
      "Sensitivity:  95.0\n",
      "F measure:  96.45\n",
      "\n",
      "Precision:  95.76\n",
      "Sensitivity:  81.09\n",
      "F measure:  87.82\n",
      "\n"
     ]
    }
   ],
   "source": [
    "step = \"step3_NN\"\n",
    "dataset_FR = FR_pass_step3_NN\n",
    "dataset_nonFR = nonFR_pass_step3_NN\n",
    "\n",
    "prec[step] = {\"0dB\":np.nan, \"5dB\":np.nan, \"10dB\":np.nan, \"15dB\":np.nan,}\n",
    "sens[step] = {\"0dB\":np.nan, \"5dB\":np.nan, \"10dB\":np.nan, \"15dB\":np.nan,}\n",
    "Fmeasure[step] = {\"0dB\":np.nan, \"5dB\":np.nan, \"10dB\":np.nan, \"15dB\":np.nan,}\n",
    "\n",
    "for dB in prec[step].keys():\n",
    "    prec[step][dB] = np.round(dataset_FR[dB] / (dataset_FR[dB] + dataset_nonFR[dB]) * 100, 2)\n",
    "    sens[step][dB] = np.round(dataset_FR[dB] / (dataset_FR[dB] + (n_total_FR - dataset_FR[dB]) ) * 100, 2)\n",
    "    Fmeasure[step][dB] = np.round(2 * ( (prec[step][dB] * sens[step][dB]) / (prec[step][dB] + sens[step][dB]) ), 2)\n",
    "    print(\"Precision: \", prec[step][dB])\n",
    "    print(\"Sensitivity: \", sens[step][dB])\n",
    "    print(\"F measure: \", Fmeasure[step][dB])\n",
    "    print(\"\")\n"
   ]
  },
  {
   "cell_type": "markdown",
   "id": "4471dc0c",
   "metadata": {},
   "source": [
    "# 2.4. Step 3 sig results"
   ]
  },
  {
   "cell_type": "code",
   "execution_count": 11,
   "id": "d67bea8a",
   "metadata": {},
   "outputs": [
    {
     "name": "stdout",
     "output_type": "stream",
     "text": [
      "Precision:  71.86\n",
      "Sensitivity:  4.97\n",
      "F measure:  9.3\n",
      "\n",
      "Precision:  96.69\n",
      "Sensitivity:  61.46\n",
      "F measure:  75.15\n",
      "\n",
      "Precision:  97.94\n",
      "Sensitivity:  95.83\n",
      "F measure:  96.87\n",
      "\n",
      "Precision:  96.04\n",
      "Sensitivity:  87.5\n",
      "F measure:  91.57\n",
      "\n"
     ]
    }
   ],
   "source": [
    "step = \"step3_sig\"\n",
    "dataset_FR = FR_pass_step3_sig\n",
    "dataset_nonFR = nonFR_pass_step3_sig\n",
    "\n",
    "prec[step] = {\"0dB\":np.nan, \"5dB\":np.nan, \"10dB\":np.nan, \"15dB\":np.nan,}\n",
    "sens[step] = {\"0dB\":np.nan, \"5dB\":np.nan, \"10dB\":np.nan, \"15dB\":np.nan,}\n",
    "Fmeasure[step] = {\"0dB\":np.nan, \"5dB\":np.nan, \"10dB\":np.nan, \"15dB\":np.nan,}\n",
    "\n",
    "for dB in prec[step].keys():\n",
    "    prec[step][dB] = np.round(dataset_FR[dB] / (dataset_FR[dB] + dataset_nonFR[dB]) * 100, 2)\n",
    "    sens[step][dB] = np.round(dataset_FR[dB] / (dataset_FR[dB] + (n_total_FR - dataset_FR[dB]) ) * 100, 2)\n",
    "    Fmeasure[step][dB] = np.round(2 * ( (prec[step][dB] * sens[step][dB]) / (prec[step][dB] + sens[step][dB]) ), 2)\n",
    "    print(\"Precision: \", prec[step][dB])\n",
    "    print(\"Sensitivity: \", sens[step][dB])\n",
    "    print(\"F measure: \", Fmeasure[step][dB])\n",
    "    print(\"\")\n"
   ]
  },
  {
   "cell_type": "code",
   "execution_count": 12,
   "id": "47bfd66b",
   "metadata": {},
   "outputs": [
    {
     "name": "stdout",
     "output_type": "stream",
     "text": [
      "             0dB    5dB   10dB   15dB\n",
      "step1      80.37  96.98  97.70  95.00\n",
      "step2      71.93  96.71  98.01  96.51\n",
      "step3_NN   71.79  96.70  97.94  95.76\n",
      "step3_sig  71.86  96.69  97.94  96.04\n"
     ]
    },
    {
     "data": {
      "image/png": "[encoded data removed]",
      "text/plain": [
       "<Figure size 1080x720 with 1 Axes>"
      ]
     },
     "metadata": {
      "needs_background": "light"
     },
     "output_type": "display_data"
    }
   ],
   "source": [
    "res_df = pd.DataFrame(prec)\n",
    "res_df = res_df.T\n",
    "print(res_df)\n",
    "\n",
    "res_df.plot(kind='bar', figsize=(15,10), colormap='Set3', width=.8)\n",
    "plt.title(\"Precision\", fontsize = 32)\n",
    "plt.ylabel(\"% Precision\", fontsize=18)\n",
    "plt.gca().yaxis.set_major_formatter(ticker.FormatStrFormatter('%.0f'))\n",
    "plt.gca().xaxis.set_tick_params(rotation=0)\n",
    "plt.ylim(0,120)\n",
    "plt.grid()\n"
   ]
  },
  {
   "cell_type": "code",
   "execution_count": 13,
   "id": "b8d57127",
   "metadata": {},
   "outputs": [
    {
     "name": "stdout",
     "output_type": "stream",
     "text": [
      "            0dB    5dB   10dB   15dB\n",
      "step1      8.32  72.50  99.51  99.95\n",
      "step2      4.98  61.79  99.13  99.72\n",
      "step3_NN   4.95  61.65  95.00  81.09\n",
      "step3_sig  4.97  61.46  95.83  87.50\n"
     ]
    },
    {
     "data": {
      "image/png": "[encoded data removed]",
      "text/plain": [
       "<Figure size 1080x720 with 1 Axes>"
      ]
     },
     "metadata": {
      "needs_background": "light"
     },
     "output_type": "display_data"
    }
   ],
   "source": [
    "res_df = pd.DataFrame(sens)\n",
    "res_df = res_df.T\n",
    "print(res_df)\n",
    "\n",
    "res_df.plot(kind='bar', figsize=(15,10), colormap='Set3', width=.8)\n",
    "plt.title(\"Sensitivity\", fontsize = 32)\n",
    "plt.ylabel(\"% Sensitivity\", fontsize=18)\n",
    "plt.gca().yaxis.set_major_formatter(ticker.FormatStrFormatter('%.0f'))\n",
    "plt.gca().xaxis.set_tick_params(rotation=0)\n",
    "plt.ylim(0,120)\n",
    "plt.grid()\n"
   ]
  },
  {
   "cell_type": "code",
   "execution_count": 14,
   "id": "e0467b61",
   "metadata": {},
   "outputs": [
    {
     "name": "stdout",
     "output_type": "stream",
     "text": [
      "             0dB    5dB   10dB   15dB\n",
      "step1      15.08  82.97  98.60  97.41\n",
      "step2       9.32  75.40  98.57  98.09\n",
      "step3_NN    9.26  75.30  96.45  87.82\n",
      "step3_sig   9.30  75.15  96.87  91.57\n"
     ]
    },
    {
     "data": {
      "image/png": "[encoded data removed]",
      "text/plain": [
       "<Figure size 1080x720 with 1 Axes>"
      ]
     },
     "metadata": {
      "needs_background": "light"
     },
     "output_type": "display_data"
    }
   ],
   "source": [
    "res_df = pd.DataFrame(Fmeasure)\n",
    "res_df = res_df.T\n",
    "print(res_df)\n",
    "\n",
    "res_df.plot(kind='bar', figsize=(15,10), colormap='Set3', width=.8)\n",
    "plt.title(\"F measure\", fontsize = 32)\n",
    "plt.ylabel(\"% F measure\", fontsize=18)\n",
    "plt.gca().yaxis.set_major_formatter(ticker.FormatStrFormatter('%.0f'))\n",
    "plt.gca().xaxis.set_tick_params(rotation=0)\n",
    "plt.ylim(0,120)\n",
    "plt.grid()\n"
   ]
  },
  {
   "cell_type": "markdown",
   "id": "e76a352b",
   "metadata": {},
   "source": [
    "# 3. Comparisons to other detectors"
   ]
  },
  {
   "cell_type": "markdown",
   "id": "6214a0c5",
   "metadata": {},
   "source": [
    "# 3.1. Load data from other detectors"
   ]
  },
  {
   "cell_type": "code",
   "execution_count": 17,
   "id": "cfaacfbe",
   "metadata": {},
   "outputs": [
    {
     "data": {
      "text/html": [
       "<div>\n",
       "<style scoped>\n",
       "    .dataframe tbody tr th:only-of-type {\n",
       "        vertical-align: middle;\n",
       "    }\n",
       "\n",
       "    .dataframe tbody tr th {\n",
       "        vertical-align: top;\n",
       "    }\n",
       "\n",
       "    .dataframe thead th {\n",
       "        text-align: right;\n",
       "    }\n",
       "</style>\n",
       "<table border=\"1\" class=\"dataframe\">\n",
       "  <thead>\n",
       "    <tr style=\"text-align: right;\">\n",
       "      <th></th>\n",
       "      <th>Score</th>\n",
       "      <th>Mesure</th>\n",
       "      <th>Detecteur</th>\n",
       "      <th>dB</th>\n",
       "      <th>Plot_it</th>\n",
       "    </tr>\n",
       "  </thead>\n",
       "  <tbody>\n",
       "    <tr>\n",
       "      <th>0</th>\n",
       "      <td>6.163000</td>\n",
       "      <td>Sensitivity</td>\n",
       "      <td>HIL</td>\n",
       "      <td>0</td>\n",
       "      <td>1</td>\n",
       "    </tr>\n",
       "    <tr>\n",
       "      <th>1</th>\n",
       "      <td>9.427000</td>\n",
       "      <td>Sensitivity</td>\n",
       "      <td>HIL</td>\n",
       "      <td>5</td>\n",
       "      <td>1</td>\n",
       "    </tr>\n",
       "    <tr>\n",
       "      <th>2</th>\n",
       "      <td>27.447000</td>\n",
       "      <td>Sensitivity</td>\n",
       "      <td>HIL</td>\n",
       "      <td>10</td>\n",
       "      <td>1</td>\n",
       "    </tr>\n",
       "    <tr>\n",
       "      <th>3</th>\n",
       "      <td>34.540000</td>\n",
       "      <td>Sensitivity</td>\n",
       "      <td>HIL</td>\n",
       "      <td>15</td>\n",
       "      <td>1</td>\n",
       "    </tr>\n",
       "    <tr>\n",
       "      <th>4</th>\n",
       "      <td>62.180000</td>\n",
       "      <td>Sensitivity</td>\n",
       "      <td>MNI</td>\n",
       "      <td>0</td>\n",
       "      <td>1</td>\n",
       "    </tr>\n",
       "    <tr>\n",
       "      <th>...</th>\n",
       "      <td>...</td>\n",
       "      <td>...</td>\n",
       "      <td>...</td>\n",
       "      <td>...</td>\n",
       "      <td>...</td>\n",
       "    </tr>\n",
       "    <tr>\n",
       "      <th>67</th>\n",
       "      <td>90.601955</td>\n",
       "      <td>Fmeasure</td>\n",
       "      <td>Delphos</td>\n",
       "      <td>15</td>\n",
       "      <td>1</td>\n",
       "    </tr>\n",
       "    <tr>\n",
       "      <th>68</th>\n",
       "      <td>44.000000</td>\n",
       "      <td>Fmeasure</td>\n",
       "      <td>MOSSDET</td>\n",
       "      <td>0</td>\n",
       "      <td>1</td>\n",
       "    </tr>\n",
       "    <tr>\n",
       "      <th>69</th>\n",
       "      <td>86.000000</td>\n",
       "      <td>Fmeasure</td>\n",
       "      <td>MOSSDET</td>\n",
       "      <td>5</td>\n",
       "      <td>1</td>\n",
       "    </tr>\n",
       "    <tr>\n",
       "      <th>70</th>\n",
       "      <td>91.000000</td>\n",
       "      <td>Fmeasure</td>\n",
       "      <td>MOSSDET</td>\n",
       "      <td>10</td>\n",
       "      <td>1</td>\n",
       "    </tr>\n",
       "    <tr>\n",
       "      <th>71</th>\n",
       "      <td>93.000000</td>\n",
       "      <td>Fmeasure</td>\n",
       "      <td>MOSSDET</td>\n",
       "      <td>15</td>\n",
       "      <td>1</td>\n",
       "    </tr>\n",
       "  </tbody>\n",
       "</table>\n",
       "<p>72 rows × 5 columns</p>\n",
       "</div>"
      ],
      "text/plain": [
       "        Score       Mesure Detecteur  dB  Plot_it\n",
       "0    6.163000  Sensitivity       HIL   0        1\n",
       "1    9.427000  Sensitivity       HIL   5        1\n",
       "2   27.447000  Sensitivity       HIL  10        1\n",
       "3   34.540000  Sensitivity       HIL  15        1\n",
       "4   62.180000  Sensitivity       MNI   0        1\n",
       "..        ...          ...       ...  ..      ...\n",
       "67  90.601955     Fmeasure   Delphos  15        1\n",
       "68  44.000000     Fmeasure   MOSSDET   0        1\n",
       "69  86.000000     Fmeasure   MOSSDET   5        1\n",
       "70  91.000000     Fmeasure   MOSSDET  10        1\n",
       "71  93.000000     Fmeasure   MOSSDET  15        1\n",
       "\n",
       "[72 rows x 5 columns]"
      ]
     },
     "execution_count": 17,
     "metadata": {},
     "output_type": "execute_result"
    }
   ],
   "source": [
    "scores_filepath = r\"input_data/sens_prec_fmeasure.csv\"\n",
    "all_detectors_df = pd.read_csv(scores_filepath)\n",
    "all_detectors_df[\"Score\"] = all_detectors_df[\"Score\"] * 100\n",
    "all_detectors_df"
   ]
  },
  {
   "cell_type": "markdown",
   "id": "f59650ba",
   "metadata": {},
   "source": [
    "# 3.2. Add Halyzia's score to dataframe"
   ]
  },
  {
   "cell_type": "code",
   "execution_count": 18,
   "id": "4193fe2e",
   "metadata": {},
   "outputs": [
    {
     "data": {
      "text/html": [
       "<div>\n",
       "<style scoped>\n",
       "    .dataframe tbody tr th:only-of-type {\n",
       "        vertical-align: middle;\n",
       "    }\n",
       "\n",
       "    .dataframe tbody tr th {\n",
       "        vertical-align: top;\n",
       "    }\n",
       "\n",
       "    .dataframe thead th {\n",
       "        text-align: right;\n",
       "    }\n",
       "</style>\n",
       "<table border=\"1\" class=\"dataframe\">\n",
       "  <thead>\n",
       "    <tr style=\"text-align: right;\">\n",
       "      <th></th>\n",
       "      <th>Score</th>\n",
       "      <th>Mesure</th>\n",
       "      <th>Detecteur</th>\n",
       "      <th>dB</th>\n",
       "      <th>Plot_it</th>\n",
       "    </tr>\n",
       "  </thead>\n",
       "  <tbody>\n",
       "    <tr>\n",
       "      <th>0</th>\n",
       "      <td>6.163</td>\n",
       "      <td>Sensitivity</td>\n",
       "      <td>HIL</td>\n",
       "      <td>0</td>\n",
       "      <td>1</td>\n",
       "    </tr>\n",
       "    <tr>\n",
       "      <th>1</th>\n",
       "      <td>9.427</td>\n",
       "      <td>Sensitivity</td>\n",
       "      <td>HIL</td>\n",
       "      <td>5</td>\n",
       "      <td>1</td>\n",
       "    </tr>\n",
       "    <tr>\n",
       "      <th>2</th>\n",
       "      <td>27.447</td>\n",
       "      <td>Sensitivity</td>\n",
       "      <td>HIL</td>\n",
       "      <td>10</td>\n",
       "      <td>1</td>\n",
       "    </tr>\n",
       "    <tr>\n",
       "      <th>3</th>\n",
       "      <td>34.540</td>\n",
       "      <td>Sensitivity</td>\n",
       "      <td>HIL</td>\n",
       "      <td>15</td>\n",
       "      <td>1</td>\n",
       "    </tr>\n",
       "    <tr>\n",
       "      <th>4</th>\n",
       "      <td>62.180</td>\n",
       "      <td>Sensitivity</td>\n",
       "      <td>MNI</td>\n",
       "      <td>0</td>\n",
       "      <td>1</td>\n",
       "    </tr>\n",
       "    <tr>\n",
       "      <th>...</th>\n",
       "      <td>...</td>\n",
       "      <td>...</td>\n",
       "      <td>...</td>\n",
       "      <td>...</td>\n",
       "      <td>...</td>\n",
       "    </tr>\n",
       "    <tr>\n",
       "      <th>115</th>\n",
       "      <td>87.500</td>\n",
       "      <td>Sensitivity</td>\n",
       "      <td>Halyzia_step3_sig</td>\n",
       "      <td>15</td>\n",
       "      <td>1</td>\n",
       "    </tr>\n",
       "    <tr>\n",
       "      <th>116</th>\n",
       "      <td>9.300</td>\n",
       "      <td>Fmeasure</td>\n",
       "      <td>Halyzia_step3_sig</td>\n",
       "      <td>0</td>\n",
       "      <td>1</td>\n",
       "    </tr>\n",
       "    <tr>\n",
       "      <th>117</th>\n",
       "      <td>75.150</td>\n",
       "      <td>Fmeasure</td>\n",
       "      <td>Halyzia_step3_sig</td>\n",
       "      <td>5</td>\n",
       "      <td>1</td>\n",
       "    </tr>\n",
       "    <tr>\n",
       "      <th>118</th>\n",
       "      <td>96.870</td>\n",
       "      <td>Fmeasure</td>\n",
       "      <td>Halyzia_step3_sig</td>\n",
       "      <td>10</td>\n",
       "      <td>1</td>\n",
       "    </tr>\n",
       "    <tr>\n",
       "      <th>119</th>\n",
       "      <td>91.570</td>\n",
       "      <td>Fmeasure</td>\n",
       "      <td>Halyzia_step3_sig</td>\n",
       "      <td>15</td>\n",
       "      <td>1</td>\n",
       "    </tr>\n",
       "  </tbody>\n",
       "</table>\n",
       "<p>120 rows × 5 columns</p>\n",
       "</div>"
      ],
      "text/plain": [
       "      Score       Mesure          Detecteur  dB  Plot_it\n",
       "0     6.163  Sensitivity                HIL   0        1\n",
       "1     9.427  Sensitivity                HIL   5        1\n",
       "2    27.447  Sensitivity                HIL  10        1\n",
       "3    34.540  Sensitivity                HIL  15        1\n",
       "4    62.180  Sensitivity                MNI   0        1\n",
       "..      ...          ...                ...  ..      ...\n",
       "115  87.500  Sensitivity  Halyzia_step3_sig  15        1\n",
       "116   9.300     Fmeasure  Halyzia_step3_sig   0        1\n",
       "117  75.150     Fmeasure  Halyzia_step3_sig   5        1\n",
       "118  96.870     Fmeasure  Halyzia_step3_sig  10        1\n",
       "119  91.570     Fmeasure  Halyzia_step3_sig  15        1\n",
       "\n",
       "[120 rows x 5 columns]"
      ]
     },
     "execution_count": 18,
     "metadata": {},
     "output_type": "execute_result"
    }
   ],
   "source": [
    "for step in prec:\n",
    "    for dB in prec[step]:\n",
    "        new_row_prec = {\"Score\": prec[step][dB], \"Mesure\": \"Precision\", \"Detecteur\":f\"Halyzia_{step}\", \"dB\": int(dB.replace(\"dB\",\"\")), \"Plot_it\": 1}\n",
    "        all_detectors_df = all_detectors_df.append(new_row_prec, ignore_index=True)\n",
    "\n",
    "    for dB in sens[step]:\n",
    "        new_row_sens = {\"Score\": sens[step][dB], \"Mesure\": \"Sensitivity\", \"Detecteur\":f\"Halyzia_{step}\", \"dB\": int(dB.replace(\"dB\",\"\")), \"Plot_it\": 1}\n",
    "        all_detectors_df = all_detectors_df.append(new_row_sens, ignore_index=True)\n",
    "        \n",
    "    for dB in Fmeasure[step]:\n",
    "        new_row_F = {\"Score\": Fmeasure[step][dB], \"Mesure\": \"Fmeasure\", \"Detecteur\":f\"Halyzia_{step}\", \"dB\": int(dB.replace(\"dB\",\"\")), \"Plot_it\": 1}\n",
    "        all_detectors_df = all_detectors_df.append(new_row_F, ignore_index=True)\n",
    "        \n",
    "all_detectors_df"
   ]
  },
  {
   "cell_type": "markdown",
   "id": "814fe67e",
   "metadata": {},
   "source": [
    "# 3.3. Reorder categories level for plot"
   ]
  },
  {
   "cell_type": "code",
   "execution_count": 19,
   "id": "4274f431",
   "metadata": {},
   "outputs": [],
   "source": [
    "rename_dict = {\n",
    "    'Halyzia_step1': 'A. Halyzia_step1',\n",
    "    'Halyzia_step2': 'B. Halyzia_step2',\n",
    "    'Halyzia_step3_NN': 'C. Halyzia_step3_NN',\n",
    "    'Halyzia_step3_sig': 'D. Halyzia_step3_sig',\n",
    "    'MOSSDET': 'E. MOSSDET',\n",
    "    'Delphos': 'F. Delphos',\n",
    "    'SLL': 'G. SLL',\n",
    "    'HIL': 'H. HIL',\n",
    "    'STE': 'I. STE',                                              \n",
    "    'MNI': 'J. MNI'                                              \n",
    "}\n",
    "\n",
    "detecteurs_list_renamed = []\n",
    "for i in all_detectors_df['Detecteur']:\n",
    "    detecteurs_list_renamed.append(rename_dict[i])\n",
    "    \n",
    "all_detectors_df['Detecteur'] = detecteurs_list_renamed"
   ]
  },
  {
   "cell_type": "markdown",
   "id": "841d9c67",
   "metadata": {},
   "source": [
    "# 3.4. Plot performances"
   ]
  },
  {
   "cell_type": "markdown",
   "id": "640fc9ac",
   "metadata": {},
   "source": [
    "## 3.4.1. With Halyzia's step 3"
   ]
  },
  {
   "cell_type": "code",
   "execution_count": 20,
   "id": "dcc7ad11",
   "metadata": {},
   "outputs": [
    {
     "data": {
      "image/png": "[encoded data removed]",
      "text/plain": [
       "<Figure size 1500x800 with 30 Axes>"
      ]
     },
     "metadata": {
      "needs_background": "light"
     },
     "output_type": "display_data"
    },
    {
     "data": {
      "text/plain": [
       "<ggplot: (837999689)>"
      ]
     },
     "execution_count": 20,
     "metadata": {},
     "output_type": "execute_result"
    }
   ],
   "source": [
    "resplot = (plotnine.ggplot(all_detectors_df)       \n",
    " + aes(x='dB', y=\"Score\", fill = \"Detecteur\")  \n",
    " + facet_grid('Mesure ~ Detecteur')\n",
    " + geom_bar(stat=\"identity\", position=position_dodge(), width=4) \n",
    " + theme(axis_text_x = element_text(angle = 45, vjust = 1, hjust=1))\n",
    " + ylim(0,100)\n",
    " + theme_minimal()\n",
    " + theme(legend_position=\"none\")\n",
    " + scale_fill_manual(values=(\"#cf695b\", \"#cf695b\", \"#cf695b\", \"#cf695b\", \"#c0d865\", \"#d6af61\", \"#79d698\", \"#75d0da\", \"#5e86d7\", \"#ce649d\"))\n",
    ")\n",
    "\n",
    "resplot"
   ]
  },
  {
   "cell_type": "markdown",
   "id": "006ac514",
   "metadata": {},
   "source": [
    "## 3.4.2. Without Halyzia's step 3"
   ]
  },
  {
   "cell_type": "code",
   "execution_count": 17,
   "id": "17c6fe2f",
   "metadata": {},
   "outputs": [
    {
     "data": {
      "image/png": "[encoded data removed]",
      "text/plain": [
       "<Figure size 1500x800 with 24 Axes>"
      ]
     },
     "metadata": {
      "needs_background": "light"
     },
     "output_type": "display_data"
    },
    {
     "data": {
      "text/plain": [
       "<ggplot: (693237227)>"
      ]
     },
     "execution_count": 17,
     "metadata": {},
     "output_type": "execute_result"
    }
   ],
   "source": [
    "partial_df = all_detectors_df[all_detectors_df[\"Detecteur\"] != \"C. Halyzia_step3_NN\"]\n",
    "partial_df = partial_df[partial_df[\"Detecteur\"] != \"D. Halyzia_step3_sig\"]\n",
    "\n",
    "resplot = (plotnine.ggplot(partial_df)         \n",
    " + aes(x='dB', y=\"Score\", fill = \"Detecteur\")    \n",
    " + facet_grid('Mesure ~ Detecteur')\n",
    " + geom_bar(stat=\"identity\", position=position_dodge(), width=4) \n",
    " + theme(axis_text_x = element_text(angle = 45, vjust = 1, hjust=1))\n",
    " + ylim(0,100)\n",
    " + theme_minimal()\n",
    " + theme(legend_position=\"none\")\n",
    " + scale_fill_manual(values=(\"#cf695b\", \"#cf695b\", \"#c0d865\", \"#d6af61\", \"#79d698\", \"#75d0da\", \"#5e86d7\", \"#ce649d\"))\n",
    ")\n",
    "\n",
    "resplot"
   ]
  },
  {
   "cell_type": "code",
   "execution_count": 26,
   "id": "39652986",
   "metadata": {},
   "outputs": [
    {
     "data": {
      "text/html": [
       "<div>\n",
       "<style scoped>\n",
       "    .dataframe tbody tr th:only-of-type {\n",
       "        vertical-align: middle;\n",
       "    }\n",
       "\n",
       "    .dataframe tbody tr th {\n",
       "        vertical-align: top;\n",
       "    }\n",
       "\n",
       "    .dataframe thead th {\n",
       "        text-align: right;\n",
       "    }\n",
       "</style>\n",
       "<table border=\"1\" class=\"dataframe\">\n",
       "  <thead>\n",
       "    <tr style=\"text-align: right;\">\n",
       "      <th></th>\n",
       "      <th>Score</th>\n",
       "      <th>Mesure</th>\n",
       "      <th>Detecteur</th>\n",
       "      <th>dB</th>\n",
       "      <th>Plot_it</th>\n",
       "    </tr>\n",
       "  </thead>\n",
       "  <tbody>\n",
       "    <tr>\n",
       "      <th>51</th>\n",
       "      <td>38.117215</td>\n",
       "      <td>Fmeasure</td>\n",
       "      <td>H. HIL</td>\n",
       "      <td>15</td>\n",
       "      <td>1</td>\n",
       "    </tr>\n",
       "    <tr>\n",
       "      <th>55</th>\n",
       "      <td>21.776067</td>\n",
       "      <td>Fmeasure</td>\n",
       "      <td>J. MNI</td>\n",
       "      <td>15</td>\n",
       "      <td>1</td>\n",
       "    </tr>\n",
       "    <tr>\n",
       "      <th>59</th>\n",
       "      <td>76.976072</td>\n",
       "      <td>Fmeasure</td>\n",
       "      <td>G. SLL</td>\n",
       "      <td>15</td>\n",
       "      <td>1</td>\n",
       "    </tr>\n",
       "    <tr>\n",
       "      <th>63</th>\n",
       "      <td>37.744228</td>\n",
       "      <td>Fmeasure</td>\n",
       "      <td>I. STE</td>\n",
       "      <td>15</td>\n",
       "      <td>1</td>\n",
       "    </tr>\n",
       "    <tr>\n",
       "      <th>67</th>\n",
       "      <td>90.601955</td>\n",
       "      <td>Fmeasure</td>\n",
       "      <td>F. Delphos</td>\n",
       "      <td>15</td>\n",
       "      <td>1</td>\n",
       "    </tr>\n",
       "    <tr>\n",
       "      <th>71</th>\n",
       "      <td>93.000000</td>\n",
       "      <td>Fmeasure</td>\n",
       "      <td>E. MOSSDET</td>\n",
       "      <td>15</td>\n",
       "      <td>1</td>\n",
       "    </tr>\n",
       "    <tr>\n",
       "      <th>83</th>\n",
       "      <td>97.410000</td>\n",
       "      <td>Fmeasure</td>\n",
       "      <td>A. Halyzia_step1</td>\n",
       "      <td>15</td>\n",
       "      <td>1</td>\n",
       "    </tr>\n",
       "    <tr>\n",
       "      <th>95</th>\n",
       "      <td>98.090000</td>\n",
       "      <td>Fmeasure</td>\n",
       "      <td>B. Halyzia_step2</td>\n",
       "      <td>15</td>\n",
       "      <td>1</td>\n",
       "    </tr>\n",
       "  </tbody>\n",
       "</table>\n",
       "</div>"
      ],
      "text/plain": [
       "        Score    Mesure         Detecteur  dB  Plot_it\n",
       "51  38.117215  Fmeasure            H. HIL  15        1\n",
       "55  21.776067  Fmeasure            J. MNI  15        1\n",
       "59  76.976072  Fmeasure            G. SLL  15        1\n",
       "63  37.744228  Fmeasure            I. STE  15        1\n",
       "67  90.601955  Fmeasure        F. Delphos  15        1\n",
       "71  93.000000  Fmeasure        E. MOSSDET  15        1\n",
       "83  97.410000  Fmeasure  A. Halyzia_step1  15        1\n",
       "95  98.090000  Fmeasure  B. Halyzia_step2  15        1"
      ]
     },
     "execution_count": 26,
     "metadata": {},
     "output_type": "execute_result"
    }
   ],
   "source": [
    "partial_df[(partial_df[\"dB\"]==15) & (partial_df[\"Mesure\"]==\"Fmeasure\")]"
   ]
  }
 ],
 "metadata": {
  "kernelspec": {
   "display_name": "Python 3 (ipykernel)",
   "language": "python",
   "name": "python3"
  },
  "language_info": {
   "codemirror_mode": {
    "name": "ipython",
    "version": 3
   },
   "file_extension": ".py",
   "mimetype": "text/x-python",
   "name": "python",
   "nbconvert_exporter": "python",
   "pygments_lexer": "ipython3",
   "version": "3.9.12"
  }
 },
 "nbformat": 4,
 "nbformat_minor": 5
}
